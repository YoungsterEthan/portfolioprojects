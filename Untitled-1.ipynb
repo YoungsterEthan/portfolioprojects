{
 "cells": [
  {
   "cell_type": "code",
   "execution_count": 1,
   "metadata": {},
   "outputs": [],
   "source": [
    "import pandas as pd"
   ]
  },
  {
   "cell_type": "code",
   "execution_count": 5,
   "metadata": {},
   "outputs": [],
   "source": [
    "df1 = pd.DataFrame({\n",
    "    'Pokemon': ['Bulbasaur', 'Ivysaur', 'Venusaur'],\n",
    "    'Total': [318, 405, 525]\n",
    "})"
   ]
  },
  {
   "cell_type": "code",
   "execution_count": 11,
   "metadata": {},
   "outputs": [],
   "source": [
    "df2 = pd.DataFrame([\n",
    "    ['Charmander', 309, 39, 52, 43, 60, 50, 65],\n",
    "    ['Charmeleon', 405, 58, 64, 58, 80, 65, 80],\n",
    "    ['Charizard', 534, 78, 84, 78, 109, 85, 100]\n",
    "],\n",
    "columns = ['Name', 'Total', 'Hp', 'Attack', 'Defense', 'Sp. Atk', 'Sp. Def', 'Speed'])"
   ]
  },
  {
   "cell_type": "code",
   "execution_count": 30,
   "metadata": {},
   "outputs": [],
   "source": [
    "charizard = df2[df2.Name == 'Charizard']\n",
    "rows = df2.iloc[-2:]"
   ]
  },
  {
   "cell_type": "code",
   "execution_count": 32,
   "metadata": {},
   "outputs": [],
   "source": [
    "mander_izard = df2[df2.Name.isin(['Charmander', 'Charizard'])]"
   ]
  },
  {
   "cell_type": "code",
   "execution_count": 15,
   "metadata": {},
   "outputs": [
    {
     "name": "stdout",
     "output_type": "stream",
     "text": [
      "         Name  Total  Hp  Attack  Defense  Sp. Atk  Sp. Def  Speed\n",
      "0  Charmander    309  39      52       43       60       50     65\n",
      "1  Charmeleon    405  58      64       58       80       65     80\n",
      "2   Charizard    534  78      84       78      109       85    100\n"
     ]
    }
   ],
   "source": [
    "print(df2)"
   ]
  },
  {
   "cell_type": "code",
   "execution_count": 17,
   "metadata": {},
   "outputs": [
    {
     "name": "stdout",
     "output_type": "stream",
     "text": [
      "        Name  Total  Hp  Attack  Defense  Sp. Atk  Sp. Def  Speed\n",
      "2  Charizard    534  78      84       78      109       85    100\n"
     ]
    }
   ],
   "source": [
    "print(charizard)"
   ]
  },
  {
   "cell_type": "code",
   "execution_count": 31,
   "metadata": {},
   "outputs": [
    {
     "name": "stdout",
     "output_type": "stream",
     "text": [
      "         Name  Total  Hp  Attack  Defense  Sp. Atk  Sp. Def  Speed\n",
      "1  Charmeleon    405  58      64       58       80       65     80\n",
      "2   Charizard    534  78      84       78      109       85    100\n"
     ]
    }
   ],
   "source": [
    "print(rows)"
   ]
  },
  {
   "cell_type": "code",
   "execution_count": 33,
   "metadata": {},
   "outputs": [
    {
     "name": "stdout",
     "output_type": "stream",
     "text": [
      "         Name  Total  Hp  Attack  Defense  Sp. Atk  Sp. Def  Speed\n",
      "0  Charmander    309  39      52       43       60       50     65\n",
      "2   Charizard    534  78      84       78      109       85    100\n"
     ]
    }
   ],
   "source": [
    "print(mander_izard)"
   ]
  }
 ],
 "metadata": {
  "interpreter": {
   "hash": "aee8b7b246df8f9039afb4144a1f6fd8d2ca17a180786b69acc140d282b71a49"
  },
  "kernelspec": {
   "display_name": "Python 3.10.0 64-bit",
   "language": "python",
   "name": "python3"
  },
  "language_info": {
   "codemirror_mode": {
    "name": "ipython",
    "version": 3
   },
   "file_extension": ".py",
   "mimetype": "text/x-python",
   "name": "python",
   "nbconvert_exporter": "python",
   "pygments_lexer": "ipython3",
   "version": "3.10.0"
  },
  "orig_nbformat": 4
 },
 "nbformat": 4,
 "nbformat_minor": 2
}
